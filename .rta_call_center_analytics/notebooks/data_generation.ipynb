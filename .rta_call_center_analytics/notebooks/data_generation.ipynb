{
 "cells": [
  {
   "cell_type": "code",
   "execution_count": 1,
   "id": "c990a892-f438-4586-b7d4-8cb59a5207ca",
   "metadata": {},
   "outputs": [],
   "source": [
    "import csv\n",
    "import random\n",
    "import uuid\n",
    "from datetime import datetime, timedelta"
   ]
  },
  {
   "cell_type": "code",
   "execution_count": 89,
   "id": "4ae4cafa-4820-49f4-8791-0b708f9f1174",
   "metadata": {
    "editable": true,
    "slideshow": {
     "slide_type": ""
    },
    "tags": []
   },
   "outputs": [
    {
     "data": {
      "text/plain": [
       "{'call_id': '46437c74e1c74',\n",
       " 'queue': 'support',\n",
       " 'agent': 1030234,\n",
       " 'date': '2025-09-07',\n",
       " 'time': '10:00:04',\n",
       " 'interval': 3,\n",
       " 'wait_t': 42,\n",
       " 'handle_t': 121,\n",
       " 'outcome': 'resolved',\n",
       " 'fcr': False}"
      ]
     },
     "execution_count": 89,
     "metadata": {},
     "output_type": "execute_result"
    }
   ],
   "source": [
    "CSAT = [1,2,3,4,5]\n",
    "CSAT_P = [0.1,0.15,0.2,0.25, 0.3]\n",
    "SENTIMENTS = [\"positive\", \"neutral\", \"negative\"]\n",
    "SENTIMENTS_P = [0.5,0.3,0.2]\n",
    "QUEUES = [\"support\", \"billing\", \"customer service\", \"sales\"]\n",
    "QUEUES_P = [0.4,0.25,0.2,0.15]\n",
    "INTERVAL_MIN = 30\n",
    "INTERVALS = (12*60) // INTERVAL_MIN\n",
    "DAYS = 14\n",
    "WAIT_RANGES = [(0,60),(61,300)]\n",
    "WAIT_P = [0.75,0.25]\n",
    "HANDLE_RANGES = [(120,360), (361, 720), (721, 1800)]\n",
    "HANDLE_P = [0.3,0.5,0.2]\n",
    "AGENTS_1 = (1030200, 1030250)\n",
    "AGENTS_2 = (1030251, 1030300)\n",
    "\n",
    "\n",
    "def generate_call(start:datetime, day:int, interval:int)-> dict:\n",
    "    ts = start + timedelta(days=day, hours=9, minutes=interval*INTERVAL_MIN, seconds=random.randint(0,59))\n",
    "    wait = random.randint(*random.choices(WAIT_RANGES,weights=WAIT_P)[0])\n",
    "    sla = wait <= 60\n",
    "    failed = \"abandoned\" if not sla else \"unresolved\"\n",
    "    outcome = \"resolved\" if sla and random.random() < 0.85 else failed\n",
    "    return {\n",
    "        \"call_id\": uuid.uuid4().hex[:13],\n",
    "        \"queue\": random.choices(QUEUES, weights=QUEUES_P)[0],\n",
    "        \"agent\": random.randint(\n",
    "            *AGENTS_1 if interval <= INTERVALS / 2 else AGENTS_2),\n",
    "        \"date\": str(ts.date()),\n",
    "        \"time\": str(ts.time()).split(\".\")[0],\n",
    "        \"interval\": interval+1,\n",
    "        \"wait_t\": wait,\n",
    "        \"handle_t\": None if not sla else random.randint(\n",
    "            *random.choices(HANDLE_RANGES,weights=HANDLE_P)[0]),\n",
    "        \"outcome\": outcome,\n",
    "        \"fcr\": True if outcome == \"resolved\" and random.random() < 0.85 else False\n",
    "    }\n",
    "\n",
    "ts = datetime(2025,9,7,0,0,0)\n",
    "generate_call(ts, 0, 2)\n",
    "# print(ts)"
   ]
  },
  {
   "cell_type": "code",
   "execution_count": null,
   "id": "c342eb61-1afc-486f-9e24-9f93d9121bcc",
   "metadata": {},
   "outputs": [],
   "source": []
  },
  {
   "cell_type": "code",
   "execution_count": null,
   "id": "46e5bc03-7449-47b2-a85b-6ef2040b3f14",
   "metadata": {},
   "outputs": [],
   "source": []
  }
 ],
 "metadata": {
  "kernelspec": {
   "display_name": "Python 3 (ipykernel)",
   "language": "python",
   "name": "python3"
  },
  "language_info": {
   "codemirror_mode": {
    "name": "ipython",
    "version": 3
   },
   "file_extension": ".py",
   "mimetype": "text/x-python",
   "name": "python",
   "nbconvert_exporter": "python",
   "pygments_lexer": "ipython3",
   "version": "3.11.2"
  }
 },
 "nbformat": 4,
 "nbformat_minor": 5
}
