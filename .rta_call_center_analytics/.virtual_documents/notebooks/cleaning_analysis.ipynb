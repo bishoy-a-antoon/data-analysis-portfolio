import numpy as np
import pandas as pd


df = pd.read_csv("../data/raw_calls.csv")
df.tail()


df['date'] = pd.to_datetime(df['date'])

df['time'] = pd.to_datetime(df['time'], format="%H:%M:%S").dt.time


for i in 'call_id', 'agent_id', 'customer_id':
    df[i] = df[i].astype('string')
    
df['queue'] = df['queue'].astype('category')
df['sentiment'] = df['sentiment'].astype('category')
df['sentiment'] = df['sentiment'].cat.add_categories(["unknown"]).fillna("unknown")

df['interval'] = df['interval'].astype('int8')
# I chose to keep null values in csat_score for data integrity.
# So I used Int8 as a data type as it allows for null values as opposed to int8.
df['csat'] = df['csat'].astype('Int8') 

df = df.drop_duplicates(subset=['call_id'])
df['queue'] = df['queue'].cat.remove_unused_categories()
df['sentiment'] = df['sentiment'].cat.remove_unused_categories()


call_volume = len(df)
avg_csat = df['csat'].mean()
avg_csat = f"{avg_csat:,.2f}"
aht = pd.to_timedelta(df['handle_t'].mean(), unit="s")
aht= str(aht).split()[-1].split(".")[0]
resolution_rate = len(df[df['resolved'] == True])/call_volume *100
resolution_rate = f"{resolution_rate:,.2f}%"
fcr = len(df[df['fcr'] == True])/call_volume *100
fcr = f"{fcr:,.2f}%"
calls_per_day = df.groupby('date').size().reset_index(name='call_volume')
calls_per_interval = df.groupby('interval').size().reset_index(name='call_volume')
calls_by_csat = df.groupby('csat').size().reset_index(name='call_volume')
print(calls_per_day)


sns.lineplot(calls_per_day)






