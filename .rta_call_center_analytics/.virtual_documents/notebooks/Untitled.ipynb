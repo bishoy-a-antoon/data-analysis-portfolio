import csv
import random
import uuid
from datetime import datetime, timedelta


CSAT = [1,2,3,4,5]
CSAT_P = [0.1,0.15,0.2,0.25, 0.3]
SENTIMENTS = ["Positive", "Neutral", "Negative"]
QUEUES = ["support", "billing", "customer service", "sales"]
QUEUES_P = [0.4,0.25,0.2,0.15]
INTERVAL_MIN = 30
INTERVALS = (12*60) // INTERVAL_MIN
DAYS = 14
WAIT_RANGES = [(0,60),(61,300)]
WAIT_P = [0.75,0.25]
HANDLE_RANGES = [(60,300), (301, 600), (600, 1800)]
HANDLE_P = [0,3,0.5,0.2]
AGENTS_1 = (1030200, 1030250)
AGENTS_2 = (1030251, 1030300)

if 
