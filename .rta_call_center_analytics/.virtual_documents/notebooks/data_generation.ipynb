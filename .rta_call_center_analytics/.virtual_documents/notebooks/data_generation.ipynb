import csv
import random
import uuid
from datetime import datetime, timedelta


CSAT = [1,2,3,4,5]
CSAT_P = [0.1,0.15,0.2,0.25, 0.3]
SENTIMENTS = ["positive", "neutral", "negative"]
SENTIMENTS_P = [0.5,0.3,0.2]
QUEUES = ["support", "billing", "customer service", "sales"]
QUEUES_P = [0.4,0.25,0.2,0.15]
INTERVAL_MIN = 30
INTERVALS = (12*60) // INTERVAL_MIN
DAYS = 14
WAIT_RANGES = [(0,60),(61,300)]
WAIT_P = [0.75,0.25]
HANDLE_RANGES = [(120,360), (361, 720), (721, 1800)]
HANDLE_P = [0.3,0.5,0.2]
AGENTS_1 = (1030200, 1030250)
AGENTS_2 = (1030251, 1030300)


def generate_call(start:datetime, day:int, interval:int)-> dict:
    ts = start + timedelta(days=day, hours=9, minutes=interval*INTERVAL_MIN, seconds=random.randint(0,59))
    wait = random.randint(*random.choices(WAIT_RANGES,weights=WAIT_P)[0])
    sla = wait <= 60
    failed = "abandoned" if not sla else "unresolved"
    outcome = "resolved" if sla and random.random() < 0.85 else failed
    return {
        "call_id": uuid.uuid4().hex[:13],
        "queue": random.choices(QUEUES, weights=QUEUES_P)[0],
        "agent": random.randint(
            *AGENTS_1 if interval <= INTERVALS / 2 else AGENTS_2),
        "date": str(ts.date()),
        "time": str(ts.time()).split(".")[0],
        "interval": interval+1,
        "wait_t": wait,
        "handle_t": None if not sla else random.randint(
            *random.choices(HANDLE_RANGES,weights=HANDLE_P)[0]),
        "outcome": outcome,
        "fcr": True if outcome == "resolved" and random.random() < 0.85 else False
    }

ts = datetime(2025,9,7,0,0,0)
generate_call(ts, 0, 2)
# print(ts)






