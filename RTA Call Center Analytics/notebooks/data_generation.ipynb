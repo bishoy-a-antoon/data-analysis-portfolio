{
 "cells": [
  {
   "cell_type": "markdown",
   "id": "592a69f8-c016-482e-b746-11e0f31b3f4a",
   "metadata": {},
   "source": [
    "# Data Generation "
   ]
  },
  {
   "cell_type": "code",
   "execution_count": 6,
   "id": "b24ed9c8-2554-4809-9850-819734774eb8",
   "metadata": {},
   "outputs": [],
   "source": [
    "import csv, uuid\n",
    "import pandas as pd\n",
    "import numpy as np\n",
    "from datetime import datetime, timedelta\n",
    "import matplotlib.pyplot as plt\n",
    "import seaborn as sns"
   ]
  },
  {
   "cell_type": "code",
   "execution_count": 7,
   "id": "9ed717ed-dfbf-4fe1-9bcf-7df0763936c6",
   "metadata": {},
   "outputs": [],
   "source": [
    "# --- CONFIG ---\n",
    "CONFIG = {\n",
    "    \"days\": 30,\n",
    "    \"interval_min\": 30,\n",
    "    \"intervals\": 1440 // 30,\n",
    "    \"start_date\": datetime(2025, 8, 1),\n",
    "\n",
    "    \"queues\": [\"support\", \"billing\", \"customer service\", \"sales\"],\n",
    "    \"queue_p\": [0.5, 0.15, 0.25, 0.10],\n",
    "\n",
    "    \"sentiments\": [\"Positive\", \"Neutral\", \"Negative\"],\n",
    "    \"sentiment_p\": [0.6, 0.25, 0.15],\n",
    "\n",
    "    \"csat\": [1, 2, 3, 4, 5],\n",
    "    \"csat_p\": [0.1, 0.1, 0.15, 0.3, 0.35],\n",
    "\n",
    "    # weighted (prob, (low, high)) in seconds\n",
    "    \"wait_dist\":   [(0.7, (0, 30)), (0.2, (31, 60)), (0.1, (61, 180))],\n",
    "    \"handle_dist\": [(0.50, (180, 300)), (0.30, (301, 600)), (0.20, (601, 1200))],\n",
    "\n",
    "    \"resolve_p\": 0.85,\n",
    "    \"fcr_p\": 0.65,\n",
    "\n",
    "    \"col_names\": [\n",
    "        \"call_id\",\"agent_id\",\"queue\",\"date\",\"time\",\"interval_num\",\n",
    "        \"wait_time\",\"abandoned\",\"customer_id\",\"handle_time\",\n",
    "        \"resolution_time\",\"resolved\",\"fcr\",\"sentiment\",\"csat_score\"\n",
    "    ]\n",
    "}\n",
    "\n",
    "SLA = {\"max_wait_time\": 60}"
   ]
  },
  {
   "cell_type": "code",
   "execution_count": 61,
   "id": "986a0ed8-1647-4a6a-b7a5-0cb8fdc4ed0d",
   "metadata": {},
   "outputs": [],
   "source": [
    "# --- RNG helpers (NumPy) ---\n",
    "rng      = np.random.default_rng(42)\n",
    "pick     = lambda items, p=None: rng.choice(items, p=p)\n",
    "randint  = lambda lo, hi: rng.integers(lo, hi + 1)\n",
    "\n",
    "def sample_dist(dist):\n",
    "    \"\"\"Pick a bucket by probability, then sample uniformly inside.\"\"\"\n",
    "    probs  = np.array([p for p, _ in dist], dtype=float)\n",
    "    probs /= probs.sum()\n",
    "    lows   = np.array([lo for _, (lo, hi) in dist])\n",
    "    highs  = np.array([hi for _, (lo, hi) in dist])\n",
    "    idx    = rng.choice(len(dist), p=probs)\n",
    "    return int(randint(lows[idx], highs[idx]))\n",
    "\n",
    "def modifier(day, interval):\n",
    "    \"\"\"Weekend busier; mid-day peak higher.\"\"\"\n",
    "    weekday = 1.0 if day < 5 else 1.4\n",
    "    peak    = 1.3 if CONFIG[\"intervals\"] * 0.3 <= interval <= CONFIG[\"intervals\"] * 0.7 else 0.8\n",
    "    return weekday * peak"
   ]
  },
  {
   "cell_type": "code",
   "execution_count": 62,
   "id": "81c00d48-aa1d-4b39-824f-ec7fcf6d658f",
   "metadata": {},
   "outputs": [
    {
     "name": "stdout",
     "output_type": "stream",
     "text": [
      "\u2705 191605 calls \u2192 ../data/raw_calls.csv\n"
     ]
    }
   ],
   "source": [
    "# --- One call record ---\n",
    "def gen_call(day, interval):\n",
    "    # timestamp within interval (random minute)\n",
    "    minutes  = interval * CONFIG[\"interval_min\"] + randint(0, CONFIG[\"interval_min\"] - 1)\n",
    "    ts       = CONFIG[\"start_date\"] + timedelta(days=day, minutes=int(minutes))\n",
    "\n",
    "    wait     = sample_dist(CONFIG[\"wait_dist\"])\n",
    "    # abandon only if past SLA and with some probability (not all)\n",
    "    abandoned = (wait > SLA[\"max_wait_time\"]) and (rng.random() < 0.75)\n",
    "\n",
    "    handle   = 0 if abandoned else sample_dist(CONFIG[\"handle_dist\"])\n",
    "    resolved = False if abandoned else (rng.random() < CONFIG[\"resolve_p\"])\n",
    "    fcr      = bool(resolved and (rng.random() < CONFIG[\"fcr_p\"]))\n",
    "\n",
    "    # csat only if not abandoned and not skipped (~15% skip)\n",
    "    csat = None\n",
    "    if not abandoned and rng.random() >= 0.15:\n",
    "        csat = int(pick(CONFIG[\"csat\"], CONFIG[\"csat_p\"]))\n",
    "\n",
    "    return [\n",
    "        str(uuid.uuid4())[:13],\n",
    "        f\"agent_{int(randint(1, 100))}\" if not abandoned else None,\n",
    "        pick(CONFIG[\"queues\"], CONFIG[\"queue_p\"]),\n",
    "        ts.date().isoformat(),\n",
    "        ts.time().strftime(\"%H:%M:%S\"),\n",
    "        int(interval + 1),\n",
    "        int(wait),\n",
    "        bool(abandoned),\n",
    "        f\"cust_{int(randint(1000, 10_000_000))}\" if not abandoned else None,\n",
    "        int(handle),\n",
    "        int(handle + wait) if not abandoned else 0,  # simple total time proxy\n",
    "        bool(resolved),\n",
    "        bool(fcr),\n",
    "        (pick(CONFIG[\"sentiments\"], CONFIG[\"sentiment_p\"]) if not abandoned else \"\"),\n",
    "        csat,\n",
    "    ]\n",
    "\n",
    "# --- All calls ---\n",
    "def generate_calls(base_calls=100):\n",
    "    calls = []\n",
    "    for d in range(CONFIG[\"days\"]):\n",
    "        for i in range(CONFIG[\"intervals\"]):\n",
    "            # Poisson arrivals per interval (more realistic than uniform jitter)\n",
    "            lam = base_calls * modifier(d, i)\n",
    "            n_calls = int(rng.poisson(lam=lam))\n",
    "            # Append actual records (not a generator)\n",
    "            for _ in range(n_calls):\n",
    "                calls.append(gen_call(d, i))\n",
    "    return calls\n",
    "\n",
    "def write_csv(filename, rows, headers):\n",
    "    with open(filename, \"w\", newline=\"\") as f:\n",
    "        writer = csv.writer(f)\n",
    "        writer.writerow(headers)\n",
    "        writer.writerows(rows)\n",
    "    print(f\"\u2705 {len(rows)} calls \u2192 {filename}\")\n",
    "\n",
    "# --- Run ---\n",
    "calls = generate_calls(base_calls=100)\n",
    "write_csv(\"../data/raw_calls.csv\", calls, CONFIG[\"col_names\"])\n"
   ]
  },
  {
   "cell_type": "code",
   "execution_count": 8,
   "id": "c641963c-529b-4907-98f0-5c2d09b6df04",
   "metadata": {},
   "outputs": [
    {
     "data": {
      "text/plain": [
       "         call_id  agent_id             queue        date      time  \\\n0  1deebd4b-9fb4  agent_98           support  2025-08-01  00:12:00   \n1  ae780011-18da  agent_86           billing  2025-08-01  00:11:00   \n2  ae9e302b-d4f9  agent_20  customer service  2025-08-01  00:21:00   \n3  c9853ff5-3c37  agent_95  customer service  2025-08-01  00:29:00   \n4  d48e35ce-9e3f  agent_39           support  2025-08-01  00:02:00   \n\n   interval_num  wait_time  abandoned   customer_id  handle_time  \\\n0             1         26      False  cust_5004019          243   \n1             1         12      False  cust_8276484          279   \n2             1        103      False  cust_3667060          528   \n3             1          2      False  cust_4372082          236   \n4             1         40      False  cust_8049187         1106   \n\n   resolution_time  resolved    fcr sentiment  csat_score  \n0              269      True  False  Negative         NaN  \n1              291      True   True   Neutral         NaN  \n2              631      True   True  Positive         5.0  \n3              238      True   True   Neutral         5.0  \n4             1146      True  False   Neutral         NaN  "
      ]
     },
     "execution_count": 8,
     "metadata": {},
     "output_type": "execute_result"
    }
   ],
   "source": [
    "df = pd.read_csv(\"../data/raw_calls.csv\")\n",
    "df.head()"
   ]
  },
  {
   "cell_type": "markdown",
   "id": "53b836db-cd84-44ef-baa6-7473c3660000",
   "metadata": {},
   "source": [
    "- Call Volume \u2192 total calls per interval/day/week.\n",
    "- Arrival Rate \u2192 calls per minute/hour.\n",
    "- Service Level (SL) \u2192 % of calls answered within SLA wait time.\n",
    "- Average Wait Time (AWT) \u2192 mean time customers spend waiting.\n",
    "- Max Wait Time \u2192 longest wait experienced.\n",
    "- Queue Length \u2192 how many customers are waiting per interval.\n",
    "- Abandonment Rate \u2192 % of calls dropped before answer.\n",
    "- Re-Queue Rate \u2192 % of calls transferred between queues.\n",
    "\n",
    "\ud83d\udc69\u200d\ud83d\udcbb Agent Performance Metrics\n",
    "- Average Handle Time (AHT) \u2192 talk + wrap-up.\n",
    "- Occupancy \u2192 % of agent time spent on calls vs idle.\n",
    "- Utilization \u2192 calls handled vs capacity.\n",
    "- First Call Resolution (FCR) \u2192 % resolved on first attempt.\n",
    "- Agent Transfers \u2192 number of transfers per agent.\n",
    "- Calls per Agent \u2192 workload distribution.\n",
    "- Adherence \u2192 time agents stick to scheduled shifts.\n",
    "\n",
    "\ud83d\ude0a Customer Experience Metrics\n",
    "- Customer Satisfaction (CSAT) \u2192 post-call ratings (1\u20135).\n",
    "- Net Promoter Score (NPS) (if you simulate it).\n",
    "- Sentiment Analysis \u2192 positive/neutral/negative tone of call.\n",
    "- Resolution Rate \u2192 % of calls resolved successfully.\n",
    "- Repeat Calls \u2192 same customer calling multiple times in period.\n",
    "\n",
    "\ud83d\udcb0 Business/Strategic Metrics\n",
    "- Call Distribution by Queue \u2192 e.g., tech vs billing vs sales.\n",
    "- Trend Analysis \u2192 by day, week, peak vs off-peak.\n",
    "\n",
    "Main Metrics:\n",
    "\n",
    "- Call Volume\n",
    "- Service Level\n",
    "- Average Wait Time\n",
    "- Abandonment Rate\n",
    "- Average Handle Time\n",
    "- FCR\n",
    "- CSAT\n",
    "- Sentiment\n"
   ]
  },
  {
   "cell_type": "code",
   "execution_count": 10,
   "id": "58b1a647-9b12-4549-ab71-60e1b7507a77",
   "metadata": {},
   "outputs": [
    {
     "name": "stdout",
     "output_type": "stream",
     "text": [
      "            date\ndate            \n2025-08-01  4789\n2025-08-02  4785\n2025-08-03  4771\n2025-08-04  4857\n2025-08-05  4793\n2025-08-06  6624\n2025-08-07  6772\n2025-08-08  6650\n2025-08-09  6784\n2025-08-10  6656\n2025-08-11  6642\n2025-08-12  6605\n2025-08-13  6642\n2025-08-14  6668\n2025-08-15  6595\n2025-08-16  6686\n2025-08-17  7007\n2025-08-18  6811\n2025-08-19  6575\n2025-08-20  6778\n2025-08-21  6825\n2025-08-22  6671\n2025-08-23  6625\n2025-08-24  6657\n2025-08-25  6733\n2025-08-26  6616\n2025-08-27  6764\n2025-08-28  6775\n2025-08-29  6743\n2025-08-30  6706\n"
     ]
    }
   ],
   "source": [
    "call_volume = len(df)\n",
    "answered_calls = df['abandoned'].value_counts()[False]\n",
    "calls_per_day = pd.DataFrame(df.groupby('date')['date'].agg('count'))\n",
    "\n",
    "calls_per_interval = df.groupby(['interval_num',\"date\"])[\"interval_num\"].agg('count')\n",
    "# sns.lineplot(data=calls_per_day)\n",
    "# plt.title('Simple Line Plot')\n",
    "# plt.pie(df['sentiment'].value_counts().sort_index(),x=\"sentiment\")\n",
    "# pt.show()\n",
    "# plt.show()\n",
    "print(calls_per_day)\n",
    "# # Create a line plot with hue for multiple lines\n",
    "# sns.lineplot(data=df, x='time', y='value_A', hue='value_B') # Note: 'value_B' as hue will treat it as categories if not continuous\n",
    "# plt.title('Line Plot with Hue')\n",
    "# plt.show()"
   ]
  }
 ],
 "metadata": {
  "kernelspec": {
   "display_name": "Python 3 (ipykernel)",
   "language": "python",
   "name": "python3"
  },
  "language_info": {
   "codemirror_mode": {
    "name": "ipython",
    "version": 3
   },
   "file_extension": ".py",
   "mimetype": "text/x-python",
   "name": "python",
   "nbconvert_exporter": "python",
   "pygments_lexer": "ipython3",
   "version": "3.11.2"
  }
 },
 "nbformat": 4,
 "nbformat_minor": 5
}
